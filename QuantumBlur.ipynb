{
 "cells": [
  {
   "cell_type": "markdown",
   "metadata": {},
   "source": [
    "# Quantum Blur Height Map Frame Generator\n",
    "(Generates frames for a Quantum Blur heightmap animation)"
   ]
  },
  {
   "cell_type": "markdown",
   "metadata": {},
   "source": [
    "## Import the Necessary Librarys"
   ]
  },
  {
   "cell_type": "code",
   "execution_count": 1,
   "metadata": {},
   "outputs": [],
   "source": [
    "import numpy as np\n",
    "import math\n",
    "\n",
    "from PIL import Image\n",
    "\n",
    "import quantumblur as qb\n",
    "from qiskit import QuantumCircuit"
   ]
  },
  {
   "cell_type": "markdown",
   "metadata": {},
   "source": [
    "## Choose a Backend"
   ]
  },
  {
   "cell_type": "markdown",
   "metadata": {},
   "source": [
    "### IBM Quantum Machine (Normal users are limited to 5 Qubits & moderately long queue times)"
   ]
  },
  {
   "cell_type": "code",
   "execution_count": 2,
   "metadata": {},
   "outputs": [],
   "source": [
    "from qiskit import IBMQ, transpile\n",
    "\n",
    "provider = IBMQ.load_account()\n",
    "backend = provider.backend.ibmq_manila"
   ]
  },
  {
   "cell_type": "markdown",
   "metadata": {},
   "source": [
    "### Simulation on Device (Reccomended for most users as it's faster)"
   ]
  },
  {
   "cell_type": "code",
   "execution_count": 2,
   "metadata": {},
   "outputs": [],
   "source": [
    "from qiskit import execute, Aer"
   ]
  },
  {
   "cell_type": "markdown",
   "metadata": {},
   "source": [
    "## Create a random seed"
   ]
  },
  {
   "cell_type": "markdown",
   "metadata": {},
   "source": [
    "### Random Seed Quantum Circuit"
   ]
  },
  {
   "cell_type": "markdown",
   "metadata": {},
   "source": [
    "Edit this to change the QuantumBlur seed"
   ]
  },
  {
   "cell_type": "code",
   "execution_count": 9,
   "metadata": {},
   "outputs": [],
   "source": [
    "height_map_size = 5 # Size of one side of the height map (ex. 16 = 16x16)\n",
    "random_points = 0.25 # As a percentage\n",
    "\n",
    "size = height_map_size if height_map_size > 256 else 256"
   ]
  },
  {
   "cell_type": "markdown",
   "metadata": {},
   "source": [
    "(This is essentially a random number generator, just using a quantum circuit to stick with the theme)"
   ]
  },
  {
   "cell_type": "code",
   "execution_count": 10,
   "metadata": {},
   "outputs": [],
   "source": [
    "height_map_area = height_map_size ** 2\n",
    "num_qubits = math.log(height_map_area, 2)\n",
    "num_points = height_map_area * random_points\n",
    "\n",
    "# Create a quantum circuit with enough qubits to represent the height map\n",
    "random_circuit = QuantumCircuit(int(num_qubits))\n",
    "\n",
    "# Add an H gate to every qubit in the circuit so it has an equal chance to be in the |1> state\n",
    "for i in range(random_circuit.num_qubits):\n",
    "        random_circuit.h(i)\n",
    "\n",
    "random_circuit.measure_all()"
   ]
  },
  {
   "cell_type": "markdown",
   "metadata": {},
   "source": [
    "### Run Circuit"
   ]
  },
  {
   "cell_type": "markdown",
   "metadata": {},
   "source": [
    "Through IBM Quantum System"
   ]
  },
  {
   "cell_type": "code",
   "execution_count": 12,
   "metadata": {},
   "outputs": [],
   "source": [
    "transpiled = transpile(random_circuit, backend=backend)\n",
    "\n",
    "job = backend.run(transpiled, shots=int(num_points))\n",
    "retrieved_job = backend.retrieve_job(job.job_id())"
   ]
  },
  {
   "cell_type": "markdown",
   "metadata": {},
   "source": [
    "On Computer"
   ]
  },
  {
   "cell_type": "code",
   "execution_count": 17,
   "metadata": {},
   "outputs": [],
   "source": [
    "job = execute(random_circuit, Aer.get_backend('qasm_simulator'), shots=num_points)"
   ]
  },
  {
   "cell_type": "markdown",
   "metadata": {},
   "source": [
    "### Display Random Seed"
   ]
  },
  {
   "cell_type": "code",
   "execution_count": 26,
   "metadata": {},
   "outputs": [
    {
     "data": {
      "image/png": "[encoded data removed]",
      "text/plain": [
       "<PIL.Image.Image image mode=L size=256x256 at 0x7F8C53F75AF0>"
      ]
     },
     "execution_count": 26,
     "metadata": {},
     "output_type": "execute_result"
    }
   ],
   "source": [
    "counts = job.result().get_counts()\n",
    "height_map = qb.probs2height(counts)\n",
    "\n",
    "qb.height2image(height_map).resize((size, size), 4)"
   ]
  },
  {
   "cell_type": "markdown",
   "metadata": {},
   "source": [
    "### Alternative Method"
   ]
  },
  {
   "cell_type": "markdown",
   "metadata": {},
   "source": [
    "Random Number Through IBM Quantum 1 Qubit (Less accurate and heights can only be 1 or 0; however, can seed a very large height map while still useing an actual quantum computer)"
   ]
  },
  {
   "cell_type": "code",
   "execution_count": 7,
   "metadata": {},
   "outputs": [],
   "source": [
    "height_map_area = height_map_size ** 2\n",
    "num_points = height_map_area * random_points\n",
    "\n",
    "# Create a quantum circuit with enough qubits to represent the height map\n",
    "random_circuit = QuantumCircuit(1)\n",
    "\n",
    "# Add an rx gate to the qubit so to reqplicate the probability distribution of the multiple qubit measurement\n",
    "probability = (1 - (1 / (height_map_area / num_points)))\n",
    "rotation = math.pi / (2 * math.acos(math.sqrt(probability)))\n",
    "random_circuit.rx(rotation, 0)\n",
    "random_circuit.measure_all()\n",
    "\n",
    "one_qubit_backend = provider.backend.ibmq_armonk\n",
    "transpiled = transpile(random_circuit, backend=one_qubit_backend)\n",
    "\n",
    "job = one_qubit_backend.run(transpiled, shots=height_map_area, memory=True)\n",
    "retrieved_job = one_qubit_backend.retrieve_job(job.job_id())"
   ]
  },
  {
   "cell_type": "code",
   "execution_count": 12,
   "metadata": {},
   "outputs": [
    {
     "data": {
      "image/png": "[encoded data removed]",
      "text/plain": [
       "<PIL.Image.Image image mode=L size=256x256 at 0x7FE46B769520>"
      ]
     },
     "execution_count": 12,
     "metadata": {},
     "output_type": "execute_result"
    }
   ],
   "source": [
    "mem = job.result().get_memory()\n",
    "height_map = np.reshape(np.array(list(map(np.uint8, mem))), (height_map_size, height_map_size))\n",
    "height_map = height_map * 255\n",
    "\n",
    "img = Image.fromarray(height_map).resize((256,256), 4)\n",
    "\n",
    "def to_height_map(img):\n",
    "    height_map = {}\n",
    "    for rowNum in range(len(img)):\n",
    "        row = img[rowNum]\n",
    "        for pixelNum in range(len(row)):\n",
    "            pixel = (pixelNum, rowNum)\n",
    "            height_map[pixel] = img[rowNum][pixelNum]\n",
    "    return height_map\n",
    "\n",
    "height_map = to_height_map(height_map)\n",
    "\n",
    "img"
   ]
  },
  {
   "cell_type": "markdown",
   "metadata": {},
   "source": [
    "## Create Quantum Blur"
   ]
  },
  {
   "cell_type": "code",
   "execution_count": 21,
   "metadata": {},
   "outputs": [],
   "source": [
    "xi = 1.5\n",
    "blurred_circuit = qb.blur_height(height_map, xi)"
   ]
  },
  {
   "cell_type": "markdown",
   "metadata": {},
   "source": [
    "### Run Circuit"
   ]
  },
  {
   "cell_type": "markdown",
   "metadata": {},
   "source": [
    "Useing IBMQ Backend (can't have an image more than 5x5 with a 5 qubit machine)"
   ]
  },
  {
   "cell_type": "code",
   "execution_count": 22,
   "metadata": {},
   "outputs": [],
   "source": [
    "quality = 1 # Enter a number from 0 to 1\n",
    "\n",
    "blurred_circuit.measure_all()\n",
    "\n",
    "transpiled = transpile(blurred_circuit, backend=backend)\n",
    "job = backend.run(transpiled, shots=height_map_area * 16 * quality)\n",
    "retrieved_job = backend.retrieve_job(job.job_id())"
   ]
  },
  {
   "cell_type": "code",
   "execution_count": 24,
   "metadata": {},
   "outputs": [],
   "source": [
    "counts = job.result().get_counts()\n",
    "blurred_height_map = qb.probs2height(counts)"
   ]
  },
  {
   "cell_type": "markdown",
   "metadata": {},
   "source": [
    "Using Aer Backend (can run more than a 5x5 but quickly becomes inefficient becasue of the sheer amount of shots required to generate a quality blurred height map)"
   ]
  },
  {
   "cell_type": "code",
   "execution_count": null,
   "metadata": {},
   "outputs": [],
   "source": [
    "quality = 1 # Enter a number from 0 to 1\n",
    "\n",
    "blurred_circuit.measure_all()\n",
    "\n",
    "job = execute(blurred_circuit, Aer.get_backend('qasm_simulator'), shots=height_map_area * 16 * quality)\n",
    "\n",
    "counts = job.result().get_counts()\n",
    "blurred_height_map = qb.probs2height(counts)"
   ]
  },
  {
   "cell_type": "markdown",
   "metadata": {},
   "source": [
    "Useing the circuit to calculate the best properties, due to the limits in quantum computeing its currenlty the best option for any image over 32x32; this, however, will produce the same result every time and is not random as the circuit is not being simulated and is instead being derived into an image through the caclulated probabilities."
   ]
  },
  {
   "cell_type": "code",
   "execution_count": null,
   "metadata": {},
   "outputs": [],
   "source": [
    "blurred_height_map = qb.circuit2height(blurred_circuit)"
   ]
  },
  {
   "cell_type": "markdown",
   "metadata": {},
   "source": [
    "## Display Blurred Image"
   ]
  },
  {
   "cell_type": "code",
   "execution_count": 25,
   "metadata": {},
   "outputs": [
    {
     "data": {
      "image/png": "[encoded data removed]",
      "text/plain": [
       "<PIL.Image.Image image mode=L size=256x256 at 0x7F8C53F4C550>"
      ]
     },
     "execution_count": 25,
     "metadata": {},
     "output_type": "execute_result"
    }
   ],
   "source": [
    "qb.height2image(blurred_height_map).resize((256,256), 4)"
   ]
  },
  {
   "cell_type": "markdown",
   "metadata": {},
   "source": [
    "## Create Quantum Blur Animation"
   ]
  },
  {
   "cell_type": "code",
   "execution_count": 18,
   "metadata": {},
   "outputs": [],
   "source": [
    "step = 0.05 # Amount of blur to iterate by each frame, reccomended around 0.05 for relatively smooth animation\n",
    "ending_blur = 5 # At what xi value the animation should end"
   ]
  },
  {
   "cell_type": "code",
   "execution_count": 19,
   "metadata": {},
   "outputs": [],
   "source": [
    "for i in range(int(ending_blur / step)):\n",
    "    xi = step * i\n",
    "    blurred_circuit = qb.blur_height(height_map, xi)\n",
    "    blurred_height_map = qb.circuit2height(blurred_circuit)\n",
    "    frame = qb.height2image(blurred_height_map).resize((size, size), 4)\n",
    "    frame.save(f'frames/frame{i}.png')"
   ]
  }
 ],
 "metadata": {
  "interpreter": {
   "hash": "bfc66c3eaa7b594d30485d3379998f3c22d9b777ce044cfa17c572d18cdf372f"
  },
  "kernelspec": {
   "display_name": "Python 3.8.10 64-bit ('venv': venv)",
   "language": "python",
   "name": "python3"
  },
  "language_info": {
   "codemirror_mode": {
    "name": "ipython",
    "version": 3
   },
   "file_extension": ".py",
   "mimetype": "text/x-python",
   "name": "python",
   "nbconvert_exporter": "python",
   "pygments_lexer": "ipython3",
   "version": "3.8.10"
  },
  "orig_nbformat": 4
 },
 "nbformat": 4,
 "nbformat_minor": 2
}
